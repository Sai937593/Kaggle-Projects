{
  "metadata": {
    "kernelspec": {
      "display_name": "Python 3",
      "name": "python3"
    },
    "language_info": {
      "name": "python",
      "version": "3.10.15",
      "mimetype": "text/x-python",
      "codemirror_mode": {
        "name": "ipython",
        "version": 3
      },
      "pygments_lexer": "ipython3",
      "nbconvert_exporter": "python",
      "file_extension": ".py"
    },
    "kaggle": {
      "accelerator": "tpu1vmV38",
      "dataSources": [
        {
          "sourceId": 84894,
          "databundleVersionId": 9709193,
          "sourceType": "competition"
        },
        {
          "sourceId": 9706567,
          "sourceType": "datasetVersion",
          "datasetId": 5936521
        }
      ],
      "dockerImageVersionId": 30786,
      "isInternetEnabled": true,
      "language": "python",
      "sourceType": "notebook",
      "isGpuEnabled": false
    },
    "colab": {
      "provenance": [],
      "gpuType": "V28",
      "include_colab_link": true
    },
    "accelerator": "TPU",
    "widgets": {
      "application/vnd.jupyter.widget-state+json": {
        "c720aeb19f0340f2814f90060ca725a0": {
          "model_module": "@jupyter-widgets/controls",
          "model_name": "HBoxModel",
          "model_module_version": "1.5.0",
          "state": {
            "_dom_classes": [],
            "_model_module": "@jupyter-widgets/controls",
            "_model_module_version": "1.5.0",
            "_model_name": "HBoxModel",
            "_view_count": null,
            "_view_module": "@jupyter-widgets/controls",
            "_view_module_version": "1.5.0",
            "_view_name": "HBoxView",
            "box_style": "",
            "children": [
              "IPY_MODEL_0251a40a64084074b0dcd481dc987ec1",
              "IPY_MODEL_27eda0234c0c41cca597039d6ba013f0",
              "IPY_MODEL_e485ad01203f4892bfca150001841277"
            ],
            "layout": "IPY_MODEL_c7d47a9e7dcc470c90258b0e4bdc861b"
          }
        },
        "0251a40a64084074b0dcd481dc987ec1": {
          "model_module": "@jupyter-widgets/controls",
          "model_name": "HTMLModel",
          "model_module_version": "1.5.0",
          "state": {
            "_dom_classes": [],
            "_model_module": "@jupyter-widgets/controls",
            "_model_module_version": "1.5.0",
            "_model_name": "HTMLModel",
            "_view_count": null,
            "_view_module": "@jupyter-widgets/controls",
            "_view_module_version": "1.5.0",
            "_view_name": "HTMLView",
            "description": "",
            "description_tooltip": null,
            "layout": "IPY_MODEL_80bbcfd89fe5479293a041f412f627de",
            "placeholder": "​",
            "style": "IPY_MODEL_48659b8a38044461a7667c33dcc2533c",
            "value": " 90%"
          }
        },
        "27eda0234c0c41cca597039d6ba013f0": {
          "model_module": "@jupyter-widgets/controls",
          "model_name": "FloatProgressModel",
          "model_module_version": "1.5.0",
          "state": {
            "_dom_classes": [],
            "_model_module": "@jupyter-widgets/controls",
            "_model_module_version": "1.5.0",
            "_model_name": "FloatProgressModel",
            "_view_count": null,
            "_view_module": "@jupyter-widgets/controls",
            "_view_module_version": "1.5.0",
            "_view_name": "ProgressView",
            "bar_style": "",
            "description": "",
            "description_tooltip": null,
            "layout": "IPY_MODEL_a9ff7cbc02fb4ccbb974a31262ae5ecc",
            "max": 10,
            "min": 0,
            "orientation": "horizontal",
            "style": "IPY_MODEL_54d688765c00479e98216630d7855cf2",
            "value": 9
          }
        },
        "e485ad01203f4892bfca150001841277": {
          "model_module": "@jupyter-widgets/controls",
          "model_name": "HTMLModel",
          "model_module_version": "1.5.0",
          "state": {
            "_dom_classes": [],
            "_model_module": "@jupyter-widgets/controls",
            "_model_module_version": "1.5.0",
            "_model_name": "HTMLModel",
            "_view_count": null,
            "_view_module": "@jupyter-widgets/controls",
            "_view_module_version": "1.5.0",
            "_view_name": "HTMLView",
            "description": "",
            "description_tooltip": null,
            "layout": "IPY_MODEL_d7d39aa9302a432b981e35f8a686eb2e",
            "placeholder": "​",
            "style": "IPY_MODEL_a783d51d1bbd489f8abbb4de55f15835",
            "value": " 9/10 [1:12:52&lt;07:08, 428.51s/it]"
          }
        },
        "c7d47a9e7dcc470c90258b0e4bdc861b": {
          "model_module": "@jupyter-widgets/base",
          "model_name": "LayoutModel",
          "model_module_version": "1.2.0",
          "state": {
            "_model_module": "@jupyter-widgets/base",
            "_model_module_version": "1.2.0",
            "_model_name": "LayoutModel",
            "_view_count": null,
            "_view_module": "@jupyter-widgets/base",
            "_view_module_version": "1.2.0",
            "_view_name": "LayoutView",
            "align_content": null,
            "align_items": null,
            "align_self": null,
            "border": null,
            "bottom": null,
            "display": null,
            "flex": null,
            "flex_flow": null,
            "grid_area": null,
            "grid_auto_columns": null,
            "grid_auto_flow": null,
            "grid_auto_rows": null,
            "grid_column": null,
            "grid_gap": null,
            "grid_row": null,
            "grid_template_areas": null,
            "grid_template_columns": null,
            "grid_template_rows": null,
            "height": null,
            "justify_content": null,
            "justify_items": null,
            "left": null,
            "margin": null,
            "max_height": null,
            "max_width": null,
            "min_height": null,
            "min_width": null,
            "object_fit": null,
            "object_position": null,
            "order": null,
            "overflow": null,
            "overflow_x": null,
            "overflow_y": null,
            "padding": null,
            "right": null,
            "top": null,
            "visibility": null,
            "width": null
          }
        },
        "80bbcfd89fe5479293a041f412f627de": {
          "model_module": "@jupyter-widgets/base",
          "model_name": "LayoutModel",
          "model_module_version": "1.2.0",
          "state": {
            "_model_module": "@jupyter-widgets/base",
            "_model_module_version": "1.2.0",
            "_model_name": "LayoutModel",
            "_view_count": null,
            "_view_module": "@jupyter-widgets/base",
            "_view_module_version": "1.2.0",
            "_view_name": "LayoutView",
            "align_content": null,
            "align_items": null,
            "align_self": null,
            "border": null,
            "bottom": null,
            "display": null,
            "flex": null,
            "flex_flow": null,
            "grid_area": null,
            "grid_auto_columns": null,
            "grid_auto_flow": null,
            "grid_auto_rows": null,
            "grid_column": null,
            "grid_gap": null,
            "grid_row": null,
            "grid_template_areas": null,
            "grid_template_columns": null,
            "grid_template_rows": null,
            "height": null,
            "justify_content": null,
            "justify_items": null,
            "left": null,
            "margin": null,
            "max_height": null,
            "max_width": null,
            "min_height": null,
            "min_width": null,
            "object_fit": null,
            "object_position": null,
            "order": null,
            "overflow": null,
            "overflow_x": null,
            "overflow_y": null,
            "padding": null,
            "right": null,
            "top": null,
            "visibility": null,
            "width": null
          }
        },
        "48659b8a38044461a7667c33dcc2533c": {
          "model_module": "@jupyter-widgets/controls",
          "model_name": "DescriptionStyleModel",
          "model_module_version": "1.5.0",
          "state": {
            "_model_module": "@jupyter-widgets/controls",
            "_model_module_version": "1.5.0",
            "_model_name": "DescriptionStyleModel",
            "_view_count": null,
            "_view_module": "@jupyter-widgets/base",
            "_view_module_version": "1.2.0",
            "_view_name": "StyleView",
            "description_width": ""
          }
        },
        "a9ff7cbc02fb4ccbb974a31262ae5ecc": {
          "model_module": "@jupyter-widgets/base",
          "model_name": "LayoutModel",
          "model_module_version": "1.2.0",
          "state": {
            "_model_module": "@jupyter-widgets/base",
            "_model_module_version": "1.2.0",
            "_model_name": "LayoutModel",
            "_view_count": null,
            "_view_module": "@jupyter-widgets/base",
            "_view_module_version": "1.2.0",
            "_view_name": "LayoutView",
            "align_content": null,
            "align_items": null,
            "align_self": null,
            "border": null,
            "bottom": null,
            "display": null,
            "flex": null,
            "flex_flow": null,
            "grid_area": null,
            "grid_auto_columns": null,
            "grid_auto_flow": null,
            "grid_auto_rows": null,
            "grid_column": null,
            "grid_gap": null,
            "grid_row": null,
            "grid_template_areas": null,
            "grid_template_columns": null,
            "grid_template_rows": null,
            "height": null,
            "justify_content": null,
            "justify_items": null,
            "left": null,
            "margin": null,
            "max_height": null,
            "max_width": null,
            "min_height": null,
            "min_width": null,
            "object_fit": null,
            "object_position": null,
            "order": null,
            "overflow": null,
            "overflow_x": null,
            "overflow_y": null,
            "padding": null,
            "right": null,
            "top": null,
            "visibility": null,
            "width": null
          }
        },
        "54d688765c00479e98216630d7855cf2": {
          "model_module": "@jupyter-widgets/controls",
          "model_name": "ProgressStyleModel",
          "model_module_version": "1.5.0",
          "state": {
            "_model_module": "@jupyter-widgets/controls",
            "_model_module_version": "1.5.0",
            "_model_name": "ProgressStyleModel",
            "_view_count": null,
            "_view_module": "@jupyter-widgets/base",
            "_view_module_version": "1.2.0",
            "_view_name": "StyleView",
            "bar_color": null,
            "description_width": ""
          }
        },
        "d7d39aa9302a432b981e35f8a686eb2e": {
          "model_module": "@jupyter-widgets/base",
          "model_name": "LayoutModel",
          "model_module_version": "1.2.0",
          "state": {
            "_model_module": "@jupyter-widgets/base",
            "_model_module_version": "1.2.0",
            "_model_name": "LayoutModel",
            "_view_count": null,
            "_view_module": "@jupyter-widgets/base",
            "_view_module_version": "1.2.0",
            "_view_name": "LayoutView",
            "align_content": null,
            "align_items": null,
            "align_self": null,
            "border": null,
            "bottom": null,
            "display": null,
            "flex": null,
            "flex_flow": null,
            "grid_area": null,
            "grid_auto_columns": null,
            "grid_auto_flow": null,
            "grid_auto_rows": null,
            "grid_column": null,
            "grid_gap": null,
            "grid_row": null,
            "grid_template_areas": null,
            "grid_template_columns": null,
            "grid_template_rows": null,
            "height": null,
            "justify_content": null,
            "justify_items": null,
            "left": null,
            "margin": null,
            "max_height": null,
            "max_width": null,
            "min_height": null,
            "min_width": null,
            "object_fit": null,
            "object_position": null,
            "order": null,
            "overflow": null,
            "overflow_x": null,
            "overflow_y": null,
            "padding": null,
            "right": null,
            "top": null,
            "visibility": null,
            "width": null
          }
        },
        "a783d51d1bbd489f8abbb4de55f15835": {
          "model_module": "@jupyter-widgets/controls",
          "model_name": "DescriptionStyleModel",
          "model_module_version": "1.5.0",
          "state": {
            "_model_module": "@jupyter-widgets/controls",
            "_model_module_version": "1.5.0",
            "_model_name": "DescriptionStyleModel",
            "_view_count": null,
            "_view_module": "@jupyter-widgets/base",
            "_view_module_version": "1.2.0",
            "_view_name": "StyleView",
            "description_width": ""
          }
        }
      }
    }
  },
  "nbformat_minor": 0,
  "nbformat": 4,
  "cells": [
    {
      "cell_type": "markdown",
      "metadata": {
        "id": "view-in-github",
        "colab_type": "text"
      },
      "source": [
        "<a href=\"https://colab.research.google.com/github/Sai937593/Kaggle-Projects/blob/main/loan-approval-ann.ipynb\" target=\"_parent\"><img src=\"https://colab.research.google.com/assets/colab-badge.svg\" alt=\"Open In Colab\"/></a>"
      ]
    },
    {
      "cell_type": "code",
      "source": [
        "from google.colab import drive\n",
        "drive.mount('/content/drive')"
      ],
      "metadata": {
        "colab": {
          "base_uri": "https://localhost:8080/"
        },
        "id": "qFctU49L3YWs",
        "outputId": "38be3b31-91d8-4a86-c8c8-4c088ae2afa7"
      },
      "execution_count": 3,
      "outputs": [
        {
          "output_type": "stream",
          "name": "stdout",
          "text": [
            "Drive already mounted at /content/drive; to attempt to forcibly remount, call drive.mount(\"/content/drive\", force_remount=True).\n"
          ]
        }
      ]
    },
    {
      "cell_type": "code",
      "source": [
        "import tensorflow as tf\n",
        "\n",
        "# Check if TPU is already initialized\n",
        "if 'tpu_strategy' not in globals():  # If 'tpu_strategy' does not exist, TPU is not initialized\n",
        "    try:\n",
        "        tpu = tf.distribute.cluster_resolver.TPUClusterResolver()\n",
        "        tf.tpu.experimental.initialize_tpu_system(tpu)\n",
        "        tpu_strategy = tf.distribute.TPUStrategy(tpu)\n",
        "        print(\"TPU initialized successfully.\")\n",
        "    except Exception as e:\n",
        "        print(\"TPU initialization failed:\", e)\n",
        "else:\n",
        "    print(\"TPU is already initialized.\")\n"
      ],
      "metadata": {
        "execution": {
          "iopub.status.busy": "2024-10-25T13:14:32.616560Z",
          "iopub.execute_input": "2024-10-25T13:14:32.616844Z",
          "iopub.status.idle": "2024-10-25T13:14:42.808642Z",
          "shell.execute_reply.started": "2024-10-25T13:14:32.616818Z",
          "shell.execute_reply": "2024-10-25T13:14:42.807900Z"
        },
        "trusted": true,
        "colab": {
          "base_uri": "https://localhost:8080/"
        },
        "id": "IjbvO5TM2pYI",
        "outputId": "f9aded32-e520-4bcc-a71b-1aa8aac40697"
      },
      "execution_count": 4,
      "outputs": [
        {
          "output_type": "stream",
          "name": "stdout",
          "text": [
            "TPU is already initialized.\n"
          ]
        }
      ]
    },
    {
      "cell_type": "code",
      "source": [
        "import os\n",
        "\n",
        "# Create the directory explicitly with the absolute path\n",
        "os.makedirs(\"/root/.kaggle\", exist_ok=True)\n",
        "\n",
        "# Copy the kaggle.json file from your Google Drive to the required location\n",
        "!cp \"/content/drive/MyDrive/Colab Notebooks/kaggle.json\" /root/.kaggle/\n",
        "\n",
        "# Set the correct permissions for the Kaggle API token\n",
        "!chmod 600 /root/.kaggle/kaggle.json\n"
      ],
      "metadata": {
        "id": "AGwgatwy4zqh"
      },
      "execution_count": 5,
      "outputs": []
    },
    {
      "cell_type": "code",
      "source": [
        "!kaggle competitions download -c playground-series-s4e10"
      ],
      "metadata": {
        "colab": {
          "base_uri": "https://localhost:8080/"
        },
        "id": "lnWQ8Xfp5RWI",
        "outputId": "51ac6c76-76f4-4d42-a310-f2987df37d13"
      },
      "execution_count": 6,
      "outputs": [
        {
          "output_type": "stream",
          "name": "stdout",
          "text": [
            "playground-series-s4e10.zip: Skipping, found more recently modified local copy (use --force to force download)\n"
          ]
        }
      ]
    },
    {
      "cell_type": "code",
      "source": [
        "from zipfile import ZipFile\n",
        "\n",
        "with ZipFile('/content/playground-series-s4e10.zip', 'r') as zip_ref:\n",
        "    zip_ref.extractall('/content')"
      ],
      "metadata": {
        "id": "SStBLetO6Lzv"
      },
      "execution_count": 7,
      "outputs": []
    },
    {
      "cell_type": "code",
      "source": [
        "import pandas as pd\n",
        "\n",
        "print(f'reading the csv files into pandas dataframes.')\n",
        "train_df = pd.read_csv('/content/train.csv')\n",
        "test_df = pd.read_csv('/content/test.csv')\n",
        "sub_df = pd.read_csv('/content/sample_submission.csv')\n"
      ],
      "metadata": {
        "execution": {
          "iopub.status.busy": "2024-10-25T13:11:47.625684Z",
          "iopub.execute_input": "2024-10-25T13:11:47.626427Z",
          "iopub.status.idle": "2024-10-25T13:11:47.758906Z",
          "shell.execute_reply.started": "2024-10-25T13:11:47.626393Z",
          "shell.execute_reply": "2024-10-25T13:11:47.758005Z"
        },
        "trusted": true,
        "colab": {
          "base_uri": "https://localhost:8080/"
        },
        "id": "4-aOwIrp2pYI",
        "outputId": "e6ef0214-f215-4ace-94ca-27dcaf0ca8f8"
      },
      "execution_count": 8,
      "outputs": [
        {
          "output_type": "stream",
          "name": "stdout",
          "text": [
            "reading the csv files into pandas dataframes.\n"
          ]
        }
      ]
    },
    {
      "cell_type": "code",
      "source": [
        "# train_df.info()"
      ],
      "metadata": {
        "execution": {
          "iopub.status.busy": "2024-10-25T13:11:47.760434Z",
          "iopub.execute_input": "2024-10-25T13:11:47.760819Z",
          "iopub.status.idle": "2024-10-25T13:11:47.764138Z",
          "shell.execute_reply.started": "2024-10-25T13:11:47.760790Z",
          "shell.execute_reply": "2024-10-25T13:11:47.763324Z"
        },
        "trusted": true,
        "id": "msVqxn5m2pYI"
      },
      "execution_count": 9,
      "outputs": []
    },
    {
      "cell_type": "code",
      "source": [
        "# test_df.info()"
      ],
      "metadata": {
        "execution": {
          "iopub.status.busy": "2024-10-25T13:11:47.765062Z",
          "iopub.execute_input": "2024-10-25T13:11:47.765302Z",
          "iopub.status.idle": "2024-10-25T13:11:47.773908Z",
          "shell.execute_reply.started": "2024-10-25T13:11:47.765277Z",
          "shell.execute_reply": "2024-10-25T13:11:47.773198Z"
        },
        "trusted": true,
        "id": "8CVAOYiU2pYJ"
      },
      "execution_count": 10,
      "outputs": []
    },
    {
      "cell_type": "code",
      "source": [
        "# train_df.isnull().any(), test_df.isnull().any()"
      ],
      "metadata": {
        "execution": {
          "iopub.status.busy": "2024-10-25T13:11:47.775384Z",
          "iopub.execute_input": "2024-10-25T13:11:47.775688Z",
          "iopub.status.idle": "2024-10-25T13:11:47.781995Z",
          "shell.execute_reply.started": "2024-10-25T13:11:47.775664Z",
          "shell.execute_reply": "2024-10-25T13:11:47.781365Z"
        },
        "trusted": true,
        "id": "dhU-Nqzs2pYJ"
      },
      "execution_count": 11,
      "outputs": []
    },
    {
      "cell_type": "code",
      "source": [
        "cat_cols = train_df.select_dtypes('object').columns\n",
        "num_cols = []\n",
        "for col in train_df.select_dtypes(exclude='object').columns:\n",
        "    if col not in ('id', 'loan_status'):\n",
        "        num_cols.append(col)\n",
        "# num_cols, cat_cols"
      ],
      "metadata": {
        "execution": {
          "iopub.status.busy": "2024-10-25T13:11:47.782771Z",
          "iopub.execute_input": "2024-10-25T13:11:47.783027Z",
          "iopub.status.idle": "2024-10-25T13:11:47.793461Z",
          "shell.execute_reply.started": "2024-10-25T13:11:47.783001Z",
          "shell.execute_reply": "2024-10-25T13:11:47.792712Z"
        },
        "trusted": true,
        "id": "A4GXB1u62pYJ"
      },
      "execution_count": 12,
      "outputs": []
    },
    {
      "cell_type": "code",
      "source": [
        "# train_df['loan_status'].value_counts(normalize=True)"
      ],
      "metadata": {
        "execution": {
          "iopub.status.busy": "2024-10-25T13:11:47.794365Z",
          "iopub.execute_input": "2024-10-25T13:11:47.794644Z",
          "iopub.status.idle": "2024-10-25T13:11:47.801406Z",
          "shell.execute_reply.started": "2024-10-25T13:11:47.794619Z",
          "shell.execute_reply": "2024-10-25T13:11:47.800745Z"
        },
        "trusted": true,
        "id": "8MTuOiD92pYJ"
      },
      "execution_count": 13,
      "outputs": []
    },
    {
      "cell_type": "code",
      "source": [
        "import matplotlib.pyplot as plt\n",
        "\n",
        "def box_plots_num_cols(df, columns):\n",
        "    df = df.copy()\n",
        "    base_width = 10\n",
        "    base_height = 5\n",
        "    rows = len(columns)\n",
        "    cols = 1\n",
        "    fig_width = cols * base_width\n",
        "    fig_height = rows * base_height\n",
        "    fig, axes = plt.subplots(rows, cols, figsize=(fig_width, fig_height))\n",
        "    axes = axes.flatten() if rows > 1 else [axes]\n",
        "    for i, col in enumerate(columns):\n",
        "        axes[i].boxplot(df[col])\n",
        "        axes[i].set_title(col)\n",
        "    for j in range(i+1, len(axes)):\n",
        "        axes[j].axis('off')\n",
        "    plt.tight_layout()"
      ],
      "metadata": {
        "execution": {
          "iopub.status.busy": "2024-10-25T13:11:47.802225Z",
          "iopub.execute_input": "2024-10-25T13:11:47.802463Z",
          "iopub.status.idle": "2024-10-25T13:11:48.122755Z",
          "shell.execute_reply.started": "2024-10-25T13:11:47.802421Z",
          "shell.execute_reply": "2024-10-25T13:11:48.121908Z"
        },
        "trusted": true,
        "id": "59Vicvtb2pYJ"
      },
      "execution_count": 14,
      "outputs": []
    },
    {
      "cell_type": "code",
      "source": [
        "# box_plots_num_cols(train_df, num_cols)"
      ],
      "metadata": {
        "execution": {
          "iopub.status.busy": "2024-10-25T13:11:48.123751Z",
          "iopub.execute_input": "2024-10-25T13:11:48.124041Z",
          "iopub.status.idle": "2024-10-25T13:11:48.127059Z",
          "shell.execute_reply.started": "2024-10-25T13:11:48.124013Z",
          "shell.execute_reply": "2024-10-25T13:11:48.126379Z"
        },
        "trusted": true,
        "id": "5q3wrA282pYK"
      },
      "execution_count": 15,
      "outputs": []
    },
    {
      "cell_type": "code",
      "source": [
        "from scipy import stats\n",
        "import numpy as np\n",
        "\n",
        "def remove_outliers(df:pd.DataFrame(), cols, beta):\n",
        "    df = df.copy()\n",
        "    for col in cols:\n",
        "#         print(f'removing {col} outliers:\\n')\n",
        "        data = df[col]\n",
        "        iqr = stats.iqr(data)\n",
        "        q1 = np.percentile(data, 25)\n",
        "        q3 = np.percentile(data, 75)\n",
        "        outlier_low = q1 - beta * iqr\n",
        "        outlier_high = q1 + beta * iqr\n",
        "#         print(f'outlier_low:{outlier_low}, outlier_high: {outlier_high}')\n",
        "        df = df[(data >= outlier_low) & (data <= outlier_high)]\n",
        "    return df\n"
      ],
      "metadata": {
        "execution": {
          "iopub.status.busy": "2024-10-25T13:11:48.127790Z",
          "iopub.execute_input": "2024-10-25T13:11:48.128035Z",
          "iopub.status.idle": "2024-10-25T13:11:48.418537Z",
          "shell.execute_reply.started": "2024-10-25T13:11:48.128012Z",
          "shell.execute_reply": "2024-10-25T13:11:48.417653Z"
        },
        "trusted": true,
        "id": "ZtOn9zxs2pYK"
      },
      "execution_count": 16,
      "outputs": []
    },
    {
      "cell_type": "code",
      "source": [
        "print(f'removing outliers before oversampling')\n",
        "df_clean = remove_outliers(train_df, num_cols, 1.5)\n",
        "# box_plots_num_cols(df_clean, num_cols)\n",
        "df_clean.shape, train_df.shape"
      ],
      "metadata": {
        "execution": {
          "iopub.status.busy": "2024-10-25T13:11:48.421649Z",
          "iopub.execute_input": "2024-10-25T13:11:48.422119Z",
          "iopub.status.idle": "2024-10-25T13:11:48.468661Z",
          "shell.execute_reply.started": "2024-10-25T13:11:48.422086Z",
          "shell.execute_reply": "2024-10-25T13:11:48.467957Z"
        },
        "trusted": true,
        "colab": {
          "base_uri": "https://localhost:8080/"
        },
        "id": "CbzNHkWx2pYK",
        "outputId": "d4f41e9f-20c6-45a8-d9a6-3b153ddb7ad9"
      },
      "execution_count": 17,
      "outputs": [
        {
          "output_type": "stream",
          "name": "stdout",
          "text": [
            "removing outliers before oversampling\n"
          ]
        },
        {
          "output_type": "execute_result",
          "data": {
            "text/plain": [
              "((24802, 13), (58645, 13))"
            ]
          },
          "metadata": {},
          "execution_count": 17
        }
      ]
    },
    {
      "cell_type": "code",
      "source": [
        "def hist_plot_cat_cols(df:pd.DataFrame(), cat_cols=cat_cols):\n",
        "    df = df.copy()\n",
        "    fig, axes_cat = plt.subplots(1, len(cat_cols), figsize=(20, 10))\n",
        "    for i, col in enumerate(cat_cols):\n",
        "        axes_cat[i].hist(df[col])\n",
        "        axes_cat[i].set_title(col)"
      ],
      "metadata": {
        "execution": {
          "iopub.status.busy": "2024-10-25T13:11:48.469516Z",
          "iopub.execute_input": "2024-10-25T13:11:48.469767Z",
          "iopub.status.idle": "2024-10-25T13:11:48.474475Z",
          "shell.execute_reply.started": "2024-10-25T13:11:48.469743Z",
          "shell.execute_reply": "2024-10-25T13:11:48.473702Z"
        },
        "trusted": true,
        "id": "fkP1sW402pYK"
      },
      "execution_count": 18,
      "outputs": []
    },
    {
      "cell_type": "code",
      "source": [
        "# hist_plot_cat_cols(train_df)"
      ],
      "metadata": {
        "execution": {
          "iopub.status.busy": "2024-10-25T13:11:48.475365Z",
          "iopub.execute_input": "2024-10-25T13:11:48.475729Z",
          "iopub.status.idle": "2024-10-25T13:11:48.486953Z",
          "shell.execute_reply.started": "2024-10-25T13:11:48.475704Z",
          "shell.execute_reply": "2024-10-25T13:11:48.486244Z"
        },
        "trusted": true,
        "id": "XWZIcwpD2pYK"
      },
      "execution_count": 19,
      "outputs": []
    },
    {
      "cell_type": "code",
      "source": [
        "# hist_plot_cat_cols(df_clean)"
      ],
      "metadata": {
        "execution": {
          "iopub.status.busy": "2024-10-25T13:11:48.487756Z",
          "iopub.execute_input": "2024-10-25T13:11:48.488070Z",
          "iopub.status.idle": "2024-10-25T13:11:48.496017Z",
          "shell.execute_reply.started": "2024-10-25T13:11:48.488046Z",
          "shell.execute_reply": "2024-10-25T13:11:48.495405Z"
        },
        "trusted": true,
        "id": "6Daiqx6X2pYL"
      },
      "execution_count": 20,
      "outputs": []
    },
    {
      "cell_type": "code",
      "source": [
        "from sklearn.preprocessing import OrdinalEncoder, OneHotEncoder\n",
        "from sklearn.compose import ColumnTransformer\n",
        "from sklearn.pipeline import Pipeline\n",
        "\n",
        "print('encoding the categorical features')\n",
        "df_clean = df_clean.drop(columns=['id'])\n",
        "\n",
        "ord_enc = OrdinalEncoder()\n",
        "one_hot_enc = OneHotEncoder(sparse_output=False)\n",
        "\n",
        "ordinal_cols = ['loan_grade']\n",
        "one_hot_cols = [col for col in cat_cols if col != 'loan_grade']\n",
        "remaining_cols = [col for col in df_clean.columns if col not in cat_cols]\n",
        "\n",
        "encoder = ColumnTransformer(\n",
        "            transformers=[\n",
        "                ('ordinal_encoder', ord_enc, ordinal_cols),\n",
        "                ('one_hot_encoder', one_hot_enc, one_hot_cols),\n",
        "                ('passthrough', 'passthrough', remaining_cols )\n",
        "            ]\n",
        ")\n",
        "\n",
        "encoded_data = encoder.fit_transform(df_clean)\n",
        "one_hot_enc.fit(df_clean[one_hot_cols])\n",
        "one_hot_encoded_cols = one_hot_enc.get_feature_names_out(one_hot_cols)\n",
        "all_cols = ordinal_cols + list(one_hot_encoded_cols) + remaining_cols\n",
        "df_encoded = pd.DataFrame(encoded_data, columns=all_cols)\n",
        "df_encoded.info()"
      ],
      "metadata": {
        "execution": {
          "iopub.status.busy": "2024-10-25T13:11:48.496787Z",
          "iopub.execute_input": "2024-10-25T13:11:48.497033Z",
          "iopub.status.idle": "2024-10-25T13:11:48.588120Z",
          "shell.execute_reply.started": "2024-10-25T13:11:48.497010Z",
          "shell.execute_reply": "2024-10-25T13:11:48.587353Z"
        },
        "trusted": true,
        "colab": {
          "base_uri": "https://localhost:8080/"
        },
        "id": "iz0XxUy12pYL",
        "outputId": "a04b5901-3a48-4ba2-d72e-b9cef5e045fe"
      },
      "execution_count": 21,
      "outputs": [
        {
          "output_type": "stream",
          "name": "stdout",
          "text": [
            "encoding the categorical features\n",
            "<class 'pandas.core.frame.DataFrame'>\n",
            "RangeIndex: 24802 entries, 0 to 24801\n",
            "Data columns (total 21 columns):\n",
            " #   Column                          Non-Null Count  Dtype  \n",
            "---  ------                          --------------  -----  \n",
            " 0   loan_grade                      24802 non-null  float64\n",
            " 1   person_home_ownership_MORTGAGE  24802 non-null  float64\n",
            " 2   person_home_ownership_OTHER     24802 non-null  float64\n",
            " 3   person_home_ownership_OWN       24802 non-null  float64\n",
            " 4   person_home_ownership_RENT      24802 non-null  float64\n",
            " 5   loan_intent_DEBTCONSOLIDATION   24802 non-null  float64\n",
            " 6   loan_intent_EDUCATION           24802 non-null  float64\n",
            " 7   loan_intent_HOMEIMPROVEMENT     24802 non-null  float64\n",
            " 8   loan_intent_MEDICAL             24802 non-null  float64\n",
            " 9   loan_intent_PERSONAL            24802 non-null  float64\n",
            " 10  loan_intent_VENTURE             24802 non-null  float64\n",
            " 11  cb_person_default_on_file_N     24802 non-null  float64\n",
            " 12  cb_person_default_on_file_Y     24802 non-null  float64\n",
            " 13  person_age                      24802 non-null  float64\n",
            " 14  person_income                   24802 non-null  float64\n",
            " 15  person_emp_length               24802 non-null  float64\n",
            " 16  loan_amnt                       24802 non-null  float64\n",
            " 17  loan_int_rate                   24802 non-null  float64\n",
            " 18  loan_percent_income             24802 non-null  float64\n",
            " 19  cb_person_cred_hist_length      24802 non-null  float64\n",
            " 20  loan_status                     24802 non-null  float64\n",
            "dtypes: float64(21)\n",
            "memory usage: 4.0 MB\n"
          ]
        }
      ]
    },
    {
      "cell_type": "code",
      "source": [
        "!pip install imblearn\n",
        "from imblearn.over_sampling import SMOTE, SVMSMOTE\n",
        "\n",
        "print(f'oversampling using SVMSMOTE')\n",
        "df_enc_copy = df_encoded.copy()\n",
        "\n",
        "smote = SMOTE(random_state=32,  k_neighbors=10)\n",
        "svm_smote = SVMSMOTE(random_state=32, k_neighbors=10,m_neighbors=10)\n",
        "\n",
        "X = df_enc_copy.drop(columns=['loan_status'])\n",
        "y = df_enc_copy.loc[:, 'loan_status']\n",
        "\n",
        "X_smote, y_smote = smote.fit_resample(X, y)\n",
        "X_svm_smote, y_svm_smote = svm_smote.fit_resample(X, y)\n",
        "X_smote.shape, y_smote.shape, X_svm_smote.shape, y_svm_smote.shape"
      ],
      "metadata": {
        "execution": {
          "iopub.status.busy": "2024-10-25T13:11:48.589001Z",
          "iopub.execute_input": "2024-10-25T13:11:48.589349Z",
          "iopub.status.idle": "2024-10-25T13:11:56.279552Z",
          "shell.execute_reply.started": "2024-10-25T13:11:48.589322Z",
          "shell.execute_reply": "2024-10-25T13:11:56.278410Z"
        },
        "trusted": true,
        "colab": {
          "base_uri": "https://localhost:8080/"
        },
        "id": "6bnWn1Nk2pYL",
        "outputId": "19936ed2-b00d-4dd5-8be8-12669aa48076"
      },
      "execution_count": 22,
      "outputs": [
        {
          "output_type": "stream",
          "name": "stdout",
          "text": [
            "Collecting imblearn\n",
            "  Downloading imblearn-0.0-py2.py3-none-any.whl.metadata (355 bytes)\n",
            "Collecting imbalanced-learn (from imblearn)\n",
            "  Downloading imbalanced_learn-0.12.4-py3-none-any.whl.metadata (8.3 kB)\n",
            "Requirement already satisfied: numpy>=1.17.3 in /usr/local/lib/python3.10/dist-packages (from imbalanced-learn->imblearn) (1.26.4)\n",
            "Requirement already satisfied: scipy>=1.5.0 in /usr/local/lib/python3.10/dist-packages (from imbalanced-learn->imblearn) (1.13.1)\n",
            "Requirement already satisfied: scikit-learn>=1.0.2 in /usr/local/lib/python3.10/dist-packages (from imbalanced-learn->imblearn) (1.5.2)\n",
            "Requirement already satisfied: joblib>=1.1.1 in /usr/local/lib/python3.10/dist-packages (from imbalanced-learn->imblearn) (1.4.2)\n",
            "Requirement already satisfied: threadpoolctl>=2.0.0 in /usr/local/lib/python3.10/dist-packages (from imbalanced-learn->imblearn) (3.5.0)\n",
            "Downloading imblearn-0.0-py2.py3-none-any.whl (1.9 kB)\n",
            "Downloading imbalanced_learn-0.12.4-py3-none-any.whl (258 kB)\n",
            "\u001b[2K   \u001b[90m━━━━━━━━━━━━━━━━━━━━━━━━━━━━━━━━━━━━━━━━\u001b[0m \u001b[32m258.3/258.3 kB\u001b[0m \u001b[31m5.4 MB/s\u001b[0m eta \u001b[36m0:00:00\u001b[0m\n",
            "\u001b[?25hInstalling collected packages: imbalanced-learn, imblearn\n",
            "Successfully installed imbalanced-learn-0.12.4 imblearn-0.0\n",
            "oversampling using SVMSMOTE\n"
          ]
        },
        {
          "output_type": "execute_result",
          "data": {
            "text/plain": [
              "((46192, 20), (46192,), (46192, 20), (46192,))"
            ]
          },
          "metadata": {},
          "execution_count": 22
        }
      ]
    },
    {
      "cell_type": "code",
      "source": [
        "smote_df = X_smote\n",
        "smote_df['loan_status'] = y_smote\n",
        "\n",
        "svm_smote_df = X_svm_smote\n",
        "svm_smote_df['loan_status'] = y_svm_smote\n"
      ],
      "metadata": {
        "execution": {
          "iopub.status.busy": "2024-10-25T13:11:56.280973Z",
          "iopub.execute_input": "2024-10-25T13:11:56.281497Z",
          "iopub.status.idle": "2024-10-25T13:11:56.287097Z",
          "shell.execute_reply.started": "2024-10-25T13:11:56.281462Z",
          "shell.execute_reply": "2024-10-25T13:11:56.286308Z"
        },
        "trusted": true,
        "id": "x65j6BfZ2pYL"
      },
      "execution_count": 23,
      "outputs": []
    },
    {
      "cell_type": "code",
      "source": [
        "# c = [col for col in smote_df.columns if col not in one_hot_encoded_cols]\n",
        "# box_plots_num_cols(smote_df, c)"
      ],
      "metadata": {
        "execution": {
          "iopub.status.busy": "2024-10-25T13:11:56.288152Z",
          "iopub.execute_input": "2024-10-25T13:11:56.288597Z",
          "iopub.status.idle": "2024-10-25T13:11:56.310776Z",
          "shell.execute_reply.started": "2024-10-25T13:11:56.288565Z",
          "shell.execute_reply": "2024-10-25T13:11:56.310077Z"
        },
        "trusted": true,
        "id": "sU1TZD2M2pYL"
      },
      "execution_count": 24,
      "outputs": []
    },
    {
      "cell_type": "code",
      "source": [
        "# c2 = [col for col in svm_smote_df.columns if col not in one_hot_encoded_cols]\n",
        "# box_plots_num_cols(svm_smote_df, c2)"
      ],
      "metadata": {
        "execution": {
          "iopub.status.busy": "2024-10-25T13:11:56.311718Z",
          "iopub.execute_input": "2024-10-25T13:11:56.311984Z",
          "iopub.status.idle": "2024-10-25T13:11:56.328035Z",
          "shell.execute_reply.started": "2024-10-25T13:11:56.311957Z",
          "shell.execute_reply": "2024-10-25T13:11:56.327346Z"
        },
        "trusted": true,
        "id": "gQQuhfqk2pYL"
      },
      "execution_count": 25,
      "outputs": []
    },
    {
      "cell_type": "code",
      "source": [
        "# smote_corr = smote_df.corr()\n",
        "# svm_smote_corr = svm_smote_df.corr()"
      ],
      "metadata": {
        "execution": {
          "iopub.status.busy": "2024-10-25T13:11:56.328937Z",
          "iopub.execute_input": "2024-10-25T13:11:56.329193Z",
          "iopub.status.idle": "2024-10-25T13:11:56.345108Z",
          "shell.execute_reply.started": "2024-10-25T13:11:56.329168Z",
          "shell.execute_reply": "2024-10-25T13:11:56.344371Z"
        },
        "trusted": true,
        "id": "sQ-xZAX22pYL"
      },
      "execution_count": 26,
      "outputs": []
    },
    {
      "cell_type": "code",
      "source": [
        "import seaborn as sns\n",
        "\n",
        "def heatmap_corr(corr):\n",
        "    plt.figure(figsize=(10, 8))\n",
        "    sns.heatmap(corr, annot=True, cmap='coolwarm', fmt=\".2f\", linewidths=0.5)\n",
        "    plt.title('Correlation Heatmap')\n",
        "    plt.show()"
      ],
      "metadata": {
        "execution": {
          "iopub.status.busy": "2024-10-25T13:11:56.346066Z",
          "iopub.execute_input": "2024-10-25T13:11:56.346366Z",
          "iopub.status.idle": "2024-10-25T13:11:56.395131Z",
          "shell.execute_reply.started": "2024-10-25T13:11:56.346322Z",
          "shell.execute_reply": "2024-10-25T13:11:56.394374Z"
        },
        "trusted": true,
        "id": "0ZCuXkmt2pYL"
      },
      "execution_count": 27,
      "outputs": []
    },
    {
      "cell_type": "code",
      "source": [
        "# heatmap_corr(smote_corr)"
      ],
      "metadata": {
        "execution": {
          "iopub.status.busy": "2024-10-25T13:11:56.395943Z",
          "iopub.execute_input": "2024-10-25T13:11:56.396342Z",
          "iopub.status.idle": "2024-10-25T13:11:56.399329Z",
          "shell.execute_reply.started": "2024-10-25T13:11:56.396316Z",
          "shell.execute_reply": "2024-10-25T13:11:56.398661Z"
        },
        "trusted": true,
        "id": "8ZJUeWU-2pYL"
      },
      "execution_count": 28,
      "outputs": []
    },
    {
      "cell_type": "code",
      "source": [
        "# heatmap_corr(svm_smote_corr)"
      ],
      "metadata": {
        "execution": {
          "iopub.status.busy": "2024-10-25T13:11:56.400182Z",
          "iopub.execute_input": "2024-10-25T13:11:56.400434Z",
          "iopub.status.idle": "2024-10-25T13:11:56.409533Z",
          "shell.execute_reply.started": "2024-10-25T13:11:56.400409Z",
          "shell.execute_reply": "2024-10-25T13:11:56.408890Z"
        },
        "trusted": true,
        "id": "X8R0Xdsk2pYM"
      },
      "execution_count": 29,
      "outputs": []
    },
    {
      "cell_type": "code",
      "source": [
        "# high_smote_corr = smote_corr[(abs(smote_corr) > 0.7) & (abs(smote_corr) != 1.0)]\n",
        "# heatmap_corr(high_smote_corr)"
      ],
      "metadata": {
        "execution": {
          "iopub.status.busy": "2024-10-25T13:11:56.410313Z",
          "iopub.execute_input": "2024-10-25T13:11:56.410568Z",
          "iopub.status.idle": "2024-10-25T13:11:56.423334Z",
          "shell.execute_reply.started": "2024-10-25T13:11:56.410543Z",
          "shell.execute_reply": "2024-10-25T13:11:56.422585Z"
        },
        "trusted": true,
        "id": "rrdxxXsu2pYM"
      },
      "execution_count": 30,
      "outputs": []
    },
    {
      "cell_type": "code",
      "source": [
        "# high_svm_smote_corr = svm_smote_corr[(abs(svm_smote_corr) > 0.7) & (abs(svm_smote_corr) != 1.0)]\n",
        "# heatmap_corr(high_svm_smote_corr)"
      ],
      "metadata": {
        "execution": {
          "iopub.status.busy": "2024-10-25T13:11:56.424291Z",
          "iopub.execute_input": "2024-10-25T13:11:56.424553Z",
          "iopub.status.idle": "2024-10-25T13:11:56.433086Z",
          "shell.execute_reply.started": "2024-10-25T13:11:56.424526Z",
          "shell.execute_reply": "2024-10-25T13:11:56.432408Z"
        },
        "trusted": true,
        "id": "U0kFKuHp2pYM"
      },
      "execution_count": 31,
      "outputs": []
    },
    {
      "cell_type": "code",
      "source": [
        "print('dropping the column person home ownership rent')\n",
        "df_final = svm_smote_df.drop(columns=[ 'person_home_ownership_RENT'])\n",
        "df_final.info()"
      ],
      "metadata": {
        "execution": {
          "iopub.status.busy": "2024-10-25T13:11:56.433924Z",
          "iopub.execute_input": "2024-10-25T13:11:56.434165Z",
          "iopub.status.idle": "2024-10-25T13:11:56.456033Z",
          "shell.execute_reply.started": "2024-10-25T13:11:56.434141Z",
          "shell.execute_reply": "2024-10-25T13:11:56.455325Z"
        },
        "trusted": true,
        "colab": {
          "base_uri": "https://localhost:8080/"
        },
        "id": "QE4NvjnB2pYM",
        "outputId": "4f2a850d-c619-4c0c-fa78-7b8fe3b518ef"
      },
      "execution_count": 32,
      "outputs": [
        {
          "output_type": "stream",
          "name": "stdout",
          "text": [
            "dropping the column person home ownership rent\n",
            "<class 'pandas.core.frame.DataFrame'>\n",
            "RangeIndex: 46192 entries, 0 to 46191\n",
            "Data columns (total 20 columns):\n",
            " #   Column                          Non-Null Count  Dtype  \n",
            "---  ------                          --------------  -----  \n",
            " 0   loan_grade                      46192 non-null  float64\n",
            " 1   person_home_ownership_MORTGAGE  46192 non-null  float64\n",
            " 2   person_home_ownership_OTHER     46192 non-null  float64\n",
            " 3   person_home_ownership_OWN       46192 non-null  float64\n",
            " 4   loan_intent_DEBTCONSOLIDATION   46192 non-null  float64\n",
            " 5   loan_intent_EDUCATION           46192 non-null  float64\n",
            " 6   loan_intent_HOMEIMPROVEMENT     46192 non-null  float64\n",
            " 7   loan_intent_MEDICAL             46192 non-null  float64\n",
            " 8   loan_intent_PERSONAL            46192 non-null  float64\n",
            " 9   loan_intent_VENTURE             46192 non-null  float64\n",
            " 10  cb_person_default_on_file_N     46192 non-null  float64\n",
            " 11  cb_person_default_on_file_Y     46192 non-null  float64\n",
            " 12  person_age                      46192 non-null  float64\n",
            " 13  person_income                   46192 non-null  float64\n",
            " 14  person_emp_length               46192 non-null  float64\n",
            " 15  loan_amnt                       46192 non-null  float64\n",
            " 16  loan_int_rate                   46192 non-null  float64\n",
            " 17  loan_percent_income             46192 non-null  float64\n",
            " 18  cb_person_cred_hist_length      46192 non-null  float64\n",
            " 19  loan_status                     46192 non-null  float64\n",
            "dtypes: float64(20)\n",
            "memory usage: 7.0 MB\n"
          ]
        }
      ]
    },
    {
      "cell_type": "code",
      "source": [
        "from sklearn.model_selection import StratifiedShuffleSplit\n",
        "\n",
        "print('splitting the dataset into train and test')\n",
        "\n",
        "sss = StratifiedShuffleSplit(n_splits=1, random_state=32, test_size=0.1)\n",
        "for tr, te in sss.split(X, y):\n",
        "    df_train = df_final.iloc[tr]\n",
        "    df_test  = df_final.iloc[te]\n",
        "target_col = 'loan_status'\n",
        "features_cols = [col for col in df_train.columns if col != target_col]\n",
        "df_train.shape, df_test.shape"
      ],
      "metadata": {
        "execution": {
          "iopub.status.busy": "2024-10-25T13:11:56.456840Z",
          "iopub.execute_input": "2024-10-25T13:11:56.457086Z",
          "iopub.status.idle": "2024-10-25T13:11:56.478396Z",
          "shell.execute_reply.started": "2024-10-25T13:11:56.457062Z",
          "shell.execute_reply": "2024-10-25T13:11:56.477610Z"
        },
        "trusted": true,
        "colab": {
          "base_uri": "https://localhost:8080/"
        },
        "id": "iese6I-52pYM",
        "outputId": "166a9cbb-94cf-4208-b4dc-cf8ca94f6e2b"
      },
      "execution_count": 33,
      "outputs": [
        {
          "output_type": "stream",
          "name": "stdout",
          "text": [
            "splitting the dataset into train and test\n"
          ]
        },
        {
          "output_type": "execute_result",
          "data": {
            "text/plain": [
              "((22321, 20), (2481, 20))"
            ]
          },
          "metadata": {},
          "execution_count": 33
        }
      ]
    },
    {
      "cell_type": "code",
      "source": [
        "import tensorflow as tf\n",
        "import pandas as pd\n",
        "from sklearn.preprocessing import StandardScaler, PolynomialFeatures\n",
        "from sklearn.pipeline import Pipeline\n",
        "\n",
        "def prepare_data_for_tpu(df:pd.DataFrame, features_cols:list[str], target_col:str, batch_size:int=32, poly_degree:int=2, poly:bool=False, valid_split:bool=False,valid_split_size:float=0.2):\n",
        "\n",
        "    df = df.copy()\n",
        "    features = df[features_cols]\n",
        "    target = df.loc[:, target_col]\n",
        "\n",
        "    pipe = Pipeline([\n",
        "        ('scaler', StandardScaler()),\n",
        "        ('poly', PolynomialFeatures(degree=poly_degree, include_bias=False, interaction_only=True)) if poly else None\n",
        "    ])\n",
        "    pipe.steps = [step for step in pipe.steps if step is not None]\n",
        "\n",
        "    features_final = pipe.fit_transform(features)\n",
        "    features_final_df = pd.DataFrame(features_final, columns=[f'feature_{i}' for i in range(features_final.shape[1])])\n",
        "\n",
        "\n",
        "    features_tensor = tf.convert_to_tensor(features_final_df.values.astype('float32'), dtype=tf.float32)\n",
        "    target_tensor = tf.convert_to_tensor(target.values.astype('int64'), dtype=tf.int64)\n",
        "\n",
        "    dataset = tf.data.Dataset.from_tensor_slices((features_tensor, target_tensor))\n",
        "\n",
        "    dataset_size = len(features)\n",
        "    val_size = int(valid_split_size * dataset_size)\n",
        "    if valid_split and (valid_split_size > 0.0):\n",
        "        valid_dataset = dataset.take(val_size).batch(batch_size).prefetch(tf.data.experimental.AUTOTUNE)\n",
        "        train_dataset = dataset.skip(val_size).shuffle(buffer_size=dataset_size-val_size).batch(batch_size).prefetch(tf.data.experimental.AUTOTUNE)\n",
        "\n",
        "        result = (train_dataset, valid_dataset)\n",
        "    else:\n",
        "        dataset = dataset.shuffle(buffer_size=dataset_size).batch(batch_size).prefetch(tf.data.experimental.AUTOTUNE)\n",
        "\n",
        "        result = (dataset, )\n",
        "    return result\n",
        "\n",
        "train_dataset, valid_dataset = prepare_data_for_tpu(df_train, features_cols=features_cols, target_col=target_col, poly=True, poly_degree=3, valid_split=True, valid_split_size=0.2)"
      ],
      "metadata": {
        "execution": {
          "iopub.status.busy": "2024-10-25T13:11:56.479364Z",
          "iopub.execute_input": "2024-10-25T13:11:56.479639Z",
          "iopub.status.idle": "2024-10-25T13:11:58.510434Z",
          "shell.execute_reply.started": "2024-10-25T13:11:56.479611Z",
          "shell.execute_reply": "2024-10-25T13:11:58.509610Z"
        },
        "trusted": true,
        "id": "i9y4ryJC2pYM"
      },
      "execution_count": 71,
      "outputs": []
    },
    {
      "cell_type": "code",
      "source": [
        "import tensorflow as tf\n",
        "import keras\n",
        "from keras import activations, layers, initializers, regularizers, optimizers, losses, metrics\n",
        "\n",
        "class ann_layer_gen:\n",
        "    def __init__(self, input_shape, batch_norm:bool=False, drop_out:bool=False, regularize:bool=False,  initializers :bool=False,drop_out_rate:float=0.0) -> None:\n",
        "        self.input_shape = input_shape\n",
        "        self.batch_norm = batch_norm\n",
        "        self.drop_out = drop_out\n",
        "        self.regularize = regularize\n",
        "        self.initializers = initializers\n",
        "        self.drop_out_rate = drop_out_rate\n",
        "        self.model = keras.Sequential()\n",
        "        self.model.add(keras.Input(shape=(input_shape, )))\n",
        "\n",
        "    def __call__(self,  out_act_fun:activations, out_unit:int, units:int=100, n_hidden_layers:int=5,  hidden_act_fun:activations=activations.relu) -> keras.Sequential :\n",
        "        for n_layer in range(1, n_hidden_layers+1):\n",
        "            layer_params = {'units':units, 'activation':hidden_act_fun}\n",
        "\n",
        "            if self.regularize:\n",
        "                layer_params['kernel_regularizer'] = regularizers.L1()\n",
        "            if self.initializers:\n",
        "                layer_params['kernel_initializer'] = initializers.glorot_normal\n",
        "\n",
        "            self.model.add(layers.Dense(**layer_params))\n",
        "\n",
        "            if self.drop_out:\n",
        "                self.model.add(layers.Dropout(rate=self.drop_out_rate))\n",
        "\n",
        "            if self.batch_norm:\n",
        "                self.model.add(layers.BatchNormalization())\n",
        "\n",
        "            units = round(units / 2)\n",
        "        self.model.add(layers.Dense(out_unit, activation=out_act_fun))\n",
        "        return self.model\n",
        "\n",
        "    def compile(model, loss:losses.Loss, metrics:list=['accuracy'], optimizer:optimizers.Optimizer=optimizers.Adam, valid_split:float=0.2, learning_rate:float=0.01 ) -> keras.Sequential:\n",
        "        try:\n",
        "            model.compile(optimizer=optimizer(learning_rate=learning_rate), loss=loss, metrics=metrics)\n",
        "        except Exception as e:\n",
        "            print('Could not compile the model with given params.')\n",
        "        return model"
      ],
      "metadata": {
        "execution": {
          "iopub.status.busy": "2024-10-25T13:11:58.513808Z",
          "iopub.execute_input": "2024-10-25T13:11:58.514124Z",
          "iopub.status.idle": "2024-10-25T13:11:58.523057Z",
          "shell.execute_reply.started": "2024-10-25T13:11:58.514090Z",
          "shell.execute_reply": "2024-10-25T13:11:58.522379Z"
        },
        "trusted": true,
        "id": "hTc4q5oS2pYM"
      },
      "execution_count": 72,
      "outputs": []
    },
    {
      "cell_type": "code",
      "source": [
        "# !pip install optuna\n",
        "import optuna\n",
        "from keras import optimizers, activations, losses\n",
        "import tensorflow as tf\n",
        "from keras import backend as K\n",
        "\n",
        "import tensorflow as tf\n",
        "\n",
        "# Check if TPU is already initialized\n",
        "if 'tpu_strategy' not in globals():  # If 'tpu_strategy' does not exist, TPU is not initialized\n",
        "    try:\n",
        "        tpu = tf.distribute.cluster_resolver.TPUClusterResolver()\n",
        "        tf.tpu.experimental.initialize_tpu_system(tpu)\n",
        "        tpu_strategy = tf.distribute.TPUStrategy(tpu)\n",
        "        print(\"TPU initialized successfully.\")\n",
        "    except Exception as e:\n",
        "        print(\"TPU initialization failed:\", e)\n",
        "else:\n",
        "    print(\"TPU is already initialized.\")\n",
        "\n",
        "input_shape = train_dataset.element_spec[0].shape[1]  # Assuming the first element in the dataset is the feature tensor\n",
        "\n",
        "# Objective function for Optuna\n",
        "def objective(trial: optuna.Trial):\n",
        "    # print('working')\n",
        "    epochs = trial.suggest_int('epochs', 10, 100, step=10)\n",
        "    units = trial.suggest_int('units', 100, 500, step=50)\n",
        "    n_hidden_layers = trial.suggest_int('n_hidden_layers', 3, 19, step=2)\n",
        "    batch_norm = trial.suggest_categorical('batch_norm', [True, False])\n",
        "    drop_out = trial.suggest_categorical('drop_out', [True, False])\n",
        "    regularize = trial.suggest_categorical('regularize', [True, False])\n",
        "    initializers = trial.suggest_categorical('initializers', [True, False])\n",
        "    drop_out_rate = trial.suggest_float('drop_out_rate', 0, 1)\n",
        "    learning_rate = trial.suggest_float('learning_rate', 1e-6, 1e-1, log=True)\n",
        "    optimizer_name = trial.suggest_categorical('optimizer', ['Adam', 'RMSprop', 'SGD', 'Nadam'])\n",
        "\n",
        "    # Create optimizer object based on the selected name\n",
        "    if optimizer_name == 'Adam':\n",
        "        optimizer = optimizers.Adam(learning_rate=learning_rate)\n",
        "    elif optimizer_name == 'RMSprop':\n",
        "        optimizer = optimizers.RMSprop(learning_rate=learning_rate)\n",
        "    elif optimizer_name == 'SGD':\n",
        "        optimizer = optimizers.SGD(learning_rate=learning_rate)\n",
        "    elif optimizer_name == 'Nadam':\n",
        "        optimizer = optimizers.Nadam(learning_rate=learning_rate)\n",
        "    # Initialization parameters\n",
        "    init_params = {\n",
        "        'batch_norm': batch_norm,\n",
        "        'drop_out': drop_out,\n",
        "        'drop_out_rate': drop_out_rate,\n",
        "        'regularize': regularize,\n",
        "        'initializers': initializers\n",
        "    }\n",
        "\n",
        "    # Model creation within TPU scope\n",
        "    with tpu_strategy.scope():\n",
        "        ann_layer_generator = ann_layer_gen(input_shape=input_shape, **init_params)\n",
        "        ann_model = ann_layer_generator(out_act_fun=activations.sigmoid, out_unit=1, units=units, n_hidden_layers=n_hidden_layers)\n",
        "        ann_model.compile(optimizer=optimizer, loss=losses.binary_crossentropy, metrics=['accuracy'])\n",
        "\n",
        "    batch_size = 8 * tpu_strategy.num_replicas_in_sync\n",
        "\n",
        "    # Model training\n",
        "    history = ann_model.fit(train_dataset, validation_data=valid_dataset, batch_size=batch_size, epochs=epochs, shuffle=True, verbose=0)\n",
        "\n",
        "    val_accuracy = history.history['val_accuracy'][-1]\n",
        "    train_accuracy = history.history['accuracy'][-1]\n",
        "    val_loss  = history.history['val_loss'][-1]\n",
        "    train_loss = history.history['loss'][-1]\n",
        "    return (train_loss, train_accuracy)\n"
      ],
      "metadata": {
        "execution": {
          "iopub.status.busy": "2024-10-25T13:12:50.496700Z",
          "iopub.execute_input": "2024-10-25T13:12:50.497512Z",
          "iopub.status.idle": "2024-10-25T13:12:50.506591Z",
          "shell.execute_reply.started": "2024-10-25T13:12:50.497476Z",
          "shell.execute_reply": "2024-10-25T13:12:50.505780Z"
        },
        "trusted": true,
        "colab": {
          "base_uri": "https://localhost:8080/"
        },
        "id": "GcvJ_1h72pYN",
        "outputId": "5c8b208c-fd5c-4d8d-905e-4c9eb3f1ff51"
      },
      "execution_count": 92,
      "outputs": [
        {
          "output_type": "stream",
          "name": "stdout",
          "text": [
            "TPU is already initialized.\n"
          ]
        }
      ]
    },
    {
      "cell_type": "code",
      "source": [
        "# !rm -rf loan_approval_ann_study.db\n",
        "loan_approval_ann_study = optuna.create_study(\n",
        "    storage='sqlite:///loan_approval_ann_study.db',\n",
        "    study_name='loan_approval_ann_study',\n",
        "    directions=['minimize', 'maximize'],\n",
        "    load_if_exists=True\n",
        ")\n",
        "\n",
        "loan_approval_ann_study.optimize(objective,  n_trials=10, show_progress_bar=True)"
      ],
      "metadata": {
        "execution": {
          "iopub.status.busy": "2024-10-25T13:12:55.104692Z",
          "iopub.execute_input": "2024-10-25T13:12:55.105049Z",
          "iopub.status.idle": "2024-10-25T13:12:55.149047Z",
          "shell.execute_reply.started": "2024-10-25T13:12:55.105021Z",
          "shell.execute_reply": "2024-10-25T13:12:55.148174Z"
        },
        "trusted": true,
        "colab": {
          "base_uri": "https://localhost:8080/",
          "height": 251,
          "referenced_widgets": [
            "c720aeb19f0340f2814f90060ca725a0",
            "0251a40a64084074b0dcd481dc987ec1",
            "27eda0234c0c41cca597039d6ba013f0",
            "e485ad01203f4892bfca150001841277",
            "c7d47a9e7dcc470c90258b0e4bdc861b",
            "80bbcfd89fe5479293a041f412f627de",
            "48659b8a38044461a7667c33dcc2533c",
            "a9ff7cbc02fb4ccbb974a31262ae5ecc",
            "54d688765c00479e98216630d7855cf2",
            "d7d39aa9302a432b981e35f8a686eb2e",
            "a783d51d1bbd489f8abbb4de55f15835"
          ]
        },
        "id": "EUJ9C6aY2pYN",
        "outputId": "beb5aee4-7818-45bc-80e4-cbebafadc0e7"
      },
      "execution_count": null,
      "outputs": [
        {
          "output_type": "stream",
          "name": "stderr",
          "text": [
            "[I 2024-10-25 15:42:09,438] Using an existing study with name 'loan_approval_ann_study' instead of creating a new one.\n"
          ]
        },
        {
          "output_type": "display_data",
          "data": {
            "text/plain": [
              "  0%|          | 0/10 [00:00<?, ?it/s]"
            ],
            "application/vnd.jupyter.widget-view+json": {
              "version_major": 2,
              "version_minor": 0,
              "model_id": "c720aeb19f0340f2814f90060ca725a0"
            }
          },
          "metadata": {}
        },
        {
          "output_type": "stream",
          "name": "stdout",
          "text": [
            "[I 2024-10-25 15:44:42,517] Trial 6 finished with values: [0.689157247543335, 0.9297754168510437] and parameters: {'epochs': 10, 'units': 400, 'n_hidden_layers': 15, 'batch_norm': True, 'drop_out': True, 'regularize': False, 'initializers': True, 'drop_out_rate': 0.3510723847441686, 'learning_rate': 1.765449524063833e-06, 'optimizer': 'Adam'}.\n",
            "[I 2024-10-25 15:55:00,729] Trial 7 finished with values: [0.25426751375198364, 0.9297754168510437] and parameters: {'epochs': 70, 'units': 150, 'n_hidden_layers': 13, 'batch_norm': False, 'drop_out': True, 'regularize': False, 'initializers': False, 'drop_out_rate': 0.37719713820015044, 'learning_rate': 0.08191664108041778, 'optimizer': 'SGD'}.\n",
            "[I 2024-10-25 16:14:21,955] Trial 8 finished with values: [8.083690643310547, 0.9297754168510437] and parameters: {'epochs': 100, 'units': 150, 'n_hidden_layers': 11, 'batch_norm': True, 'drop_out': True, 'regularize': True, 'initializers': True, 'drop_out_rate': 0.27312928286645444, 'learning_rate': 0.04588753786557745, 'optimizer': 'Nadam'}.\n",
            "[I 2024-10-25 16:26:17,260] Trial 9 finished with values: [0.35297533869743347, 0.9297754168510437] and parameters: {'epochs': 80, 'units': 400, 'n_hidden_layers': 13, 'batch_norm': False, 'drop_out': True, 'regularize': False, 'initializers': True, 'drop_out_rate': 0.2473891376671863, 'learning_rate': 9.70447683627466e-05, 'optimizer': 'SGD'}.\n",
            "[I 2024-10-25 16:31:10,015] Trial 10 finished with values: [209.3188934326172, 0.6858934760093689] and parameters: {'epochs': 30, 'units': 500, 'n_hidden_layers': 5, 'batch_norm': True, 'drop_out': True, 'regularize': True, 'initializers': True, 'drop_out_rate': 0.6882185709159472, 'learning_rate': 4.087531319928475e-06, 'optimizer': 'Adam'}.\n",
            "[I 2024-10-25 16:33:16,038] Trial 11 finished with values: [24.91046142578125, 0.9297754168510437] and parameters: {'epochs': 10, 'units': 300, 'n_hidden_layers': 9, 'batch_norm': True, 'drop_out': False, 'regularize': True, 'initializers': False, 'drop_out_rate': 0.9763684728160604, 'learning_rate': 0.05475738208060541, 'optimizer': 'Adam'}.\n",
            "[I 2024-10-25 16:38:42,115] Trial 12 finished with values: [0.6855297684669495, 0.9297754168510437] and parameters: {'epochs': 30, 'units': 300, 'n_hidden_layers': 11, 'batch_norm': True, 'drop_out': False, 'regularize': False, 'initializers': False, 'drop_out_rate': 0.014896196582156462, 'learning_rate': 1.086859254607034e-06, 'optimizer': 'RMSprop'}.\n",
            "[I 2024-10-25 16:49:46,096] Trial 13 finished with values: [0.5257128477096558, 0.9297754168510437] and parameters: {'epochs': 70, 'units': 250, 'n_hidden_layers': 17, 'batch_norm': False, 'drop_out': False, 'regularize': True, 'initializers': True, 'drop_out_rate': 0.40600896640359907, 'learning_rate': 0.0001685341487765356, 'optimizer': 'RMSprop'}.\n",
            "[I 2024-10-25 16:55:02,153] Trial 14 finished with values: [0.423302561044693, 0.9297754168510437] and parameters: {'epochs': 30, 'units': 300, 'n_hidden_layers': 7, 'batch_norm': True, 'drop_out': True, 'regularize': True, 'initializers': True, 'drop_out_rate': 0.6357216420113584, 'learning_rate': 0.00046837227068746446, 'optimizer': 'Nadam'}.\n"
          ]
        }
      ]
    },
    {
      "cell_type": "code",
      "source": [],
      "metadata": {
        "colab": {
          "base_uri": "https://localhost:8080/",
          "height": 297
        },
        "id": "hk3lmSrjLjmY",
        "outputId": "c5a63213-9870-4d76-bf65-bbc1e1fc1541"
      },
      "execution_count": 81,
      "outputs": [
        {
          "output_type": "error",
          "ename": "ValueError",
          "evalue": "Record does not exist.",
          "traceback": [
            "\u001b[0;31m---------------------------------------------------------------------------\u001b[0m",
            "\u001b[0;31mValueError\u001b[0m                                Traceback (most recent call last)",
            "\u001b[0;32m<ipython-input-81-84d271e2e58a>\u001b[0m in \u001b[0;36m<cell line: 1>\u001b[0;34m()\u001b[0m\n\u001b[0;32m----> 1\u001b[0;31m \u001b[0mloan_approval_ann_study\u001b[0m\u001b[0;34m.\u001b[0m\u001b[0mbest_params\u001b[0m\u001b[0;34m\u001b[0m\u001b[0;34m\u001b[0m\u001b[0m\n\u001b[0m",
            "\u001b[0;32m/usr/local/lib/python3.10/dist-packages/optuna/study/study.py\u001b[0m in \u001b[0;36mbest_params\u001b[0;34m(self)\u001b[0m\n\u001b[1;32m    117\u001b[0m         \"\"\"\n\u001b[1;32m    118\u001b[0m \u001b[0;34m\u001b[0m\u001b[0m\n\u001b[0;32m--> 119\u001b[0;31m         \u001b[0;32mreturn\u001b[0m \u001b[0mself\u001b[0m\u001b[0;34m.\u001b[0m\u001b[0mbest_trial\u001b[0m\u001b[0;34m.\u001b[0m\u001b[0mparams\u001b[0m\u001b[0;34m\u001b[0m\u001b[0;34m\u001b[0m\u001b[0m\n\u001b[0m\u001b[1;32m    120\u001b[0m \u001b[0;34m\u001b[0m\u001b[0m\n\u001b[1;32m    121\u001b[0m     \u001b[0;34m@\u001b[0m\u001b[0mproperty\u001b[0m\u001b[0;34m\u001b[0m\u001b[0;34m\u001b[0m\u001b[0m\n",
            "\u001b[0;32m/usr/local/lib/python3.10/dist-packages/optuna/study/study.py\u001b[0m in \u001b[0;36mbest_trial\u001b[0;34m(self)\u001b[0m\n\u001b[1;32m    160\u001b[0m             )\n\u001b[1;32m    161\u001b[0m \u001b[0;34m\u001b[0m\u001b[0m\n\u001b[0;32m--> 162\u001b[0;31m         \u001b[0mbest_trial\u001b[0m \u001b[0;34m=\u001b[0m \u001b[0mself\u001b[0m\u001b[0;34m.\u001b[0m\u001b[0m_storage\u001b[0m\u001b[0;34m.\u001b[0m\u001b[0mget_best_trial\u001b[0m\u001b[0;34m(\u001b[0m\u001b[0mself\u001b[0m\u001b[0;34m.\u001b[0m\u001b[0m_study_id\u001b[0m\u001b[0;34m)\u001b[0m\u001b[0;34m\u001b[0m\u001b[0;34m\u001b[0m\u001b[0m\n\u001b[0m\u001b[1;32m    163\u001b[0m \u001b[0;34m\u001b[0m\u001b[0m\n\u001b[1;32m    164\u001b[0m         \u001b[0;31m# If the trial with the best value is infeasible, select the best trial from all feasible\u001b[0m\u001b[0;34m\u001b[0m\u001b[0;34m\u001b[0m\u001b[0m\n",
            "\u001b[0;32m/usr/local/lib/python3.10/dist-packages/optuna/storages/_cached_storage.py\u001b[0m in \u001b[0;36mget_best_trial\u001b[0;34m(self, study_id)\u001b[0m\n\u001b[1;32m    176\u001b[0m \u001b[0;34m\u001b[0m\u001b[0m\n\u001b[1;32m    177\u001b[0m     \u001b[0;32mdef\u001b[0m \u001b[0mget_best_trial\u001b[0m\u001b[0;34m(\u001b[0m\u001b[0mself\u001b[0m\u001b[0;34m,\u001b[0m \u001b[0mstudy_id\u001b[0m\u001b[0;34m:\u001b[0m \u001b[0mint\u001b[0m\u001b[0;34m)\u001b[0m \u001b[0;34m->\u001b[0m \u001b[0mFrozenTrial\u001b[0m\u001b[0;34m:\u001b[0m\u001b[0;34m\u001b[0m\u001b[0;34m\u001b[0m\u001b[0m\n\u001b[0;32m--> 178\u001b[0;31m         \u001b[0;32mreturn\u001b[0m \u001b[0mself\u001b[0m\u001b[0;34m.\u001b[0m\u001b[0m_backend\u001b[0m\u001b[0;34m.\u001b[0m\u001b[0mget_best_trial\u001b[0m\u001b[0;34m(\u001b[0m\u001b[0mstudy_id\u001b[0m\u001b[0;34m)\u001b[0m\u001b[0;34m\u001b[0m\u001b[0;34m\u001b[0m\u001b[0m\n\u001b[0m\u001b[1;32m    179\u001b[0m \u001b[0;34m\u001b[0m\u001b[0m\n\u001b[1;32m    180\u001b[0m     def set_trial_state_values(\n",
            "\u001b[0;32m/usr/local/lib/python3.10/dist-packages/optuna/storages/_rdb/storage.py\u001b[0m in \u001b[0;36mget_best_trial\u001b[0;34m(self, study_id)\u001b[0m\n\u001b[1;32m    919\u001b[0m \u001b[0;34m\u001b[0m\u001b[0m\n\u001b[1;32m    920\u001b[0m             \u001b[0;32mif\u001b[0m \u001b[0mdirection\u001b[0m \u001b[0;34m==\u001b[0m \u001b[0mStudyDirection\u001b[0m\u001b[0;34m.\u001b[0m\u001b[0mMAXIMIZE\u001b[0m\u001b[0;34m:\u001b[0m\u001b[0;34m\u001b[0m\u001b[0;34m\u001b[0m\u001b[0m\n\u001b[0;32m--> 921\u001b[0;31m                 \u001b[0mtrial_id\u001b[0m \u001b[0;34m=\u001b[0m \u001b[0mmodels\u001b[0m\u001b[0;34m.\u001b[0m\u001b[0mTrialModel\u001b[0m\u001b[0;34m.\u001b[0m\u001b[0mfind_max_value_trial_id\u001b[0m\u001b[0;34m(\u001b[0m\u001b[0mstudy_id\u001b[0m\u001b[0;34m,\u001b[0m \u001b[0;36m0\u001b[0m\u001b[0;34m,\u001b[0m \u001b[0msession\u001b[0m\u001b[0;34m)\u001b[0m\u001b[0;34m\u001b[0m\u001b[0;34m\u001b[0m\u001b[0m\n\u001b[0m\u001b[1;32m    922\u001b[0m             \u001b[0;32melse\u001b[0m\u001b[0;34m:\u001b[0m\u001b[0;34m\u001b[0m\u001b[0;34m\u001b[0m\u001b[0m\n\u001b[1;32m    923\u001b[0m                 \u001b[0mtrial_id\u001b[0m \u001b[0;34m=\u001b[0m \u001b[0mmodels\u001b[0m\u001b[0;34m.\u001b[0m\u001b[0mTrialModel\u001b[0m\u001b[0;34m.\u001b[0m\u001b[0mfind_min_value_trial_id\u001b[0m\u001b[0;34m(\u001b[0m\u001b[0mstudy_id\u001b[0m\u001b[0;34m,\u001b[0m \u001b[0;36m0\u001b[0m\u001b[0;34m,\u001b[0m \u001b[0msession\u001b[0m\u001b[0;34m)\u001b[0m\u001b[0;34m\u001b[0m\u001b[0;34m\u001b[0m\u001b[0m\n",
            "\u001b[0;32m/usr/local/lib/python3.10/dist-packages/optuna/storages/_rdb/models.py\u001b[0m in \u001b[0;36mfind_max_value_trial_id\u001b[0;34m(cls, study_id, objective, session)\u001b[0m\n\u001b[1;32m    210\u001b[0m         )\n\u001b[1;32m    211\u001b[0m         \u001b[0;32mif\u001b[0m \u001b[0mtrial\u001b[0m \u001b[0;32mis\u001b[0m \u001b[0;32mNone\u001b[0m\u001b[0;34m:\u001b[0m\u001b[0;34m\u001b[0m\u001b[0;34m\u001b[0m\u001b[0m\n\u001b[0;32m--> 212\u001b[0;31m             \u001b[0;32mraise\u001b[0m \u001b[0mValueError\u001b[0m\u001b[0;34m(\u001b[0m\u001b[0mNOT_FOUND_MSG\u001b[0m\u001b[0;34m)\u001b[0m\u001b[0;34m\u001b[0m\u001b[0;34m\u001b[0m\u001b[0m\n\u001b[0m\u001b[1;32m    213\u001b[0m         \u001b[0;32mreturn\u001b[0m \u001b[0mtrial\u001b[0m\u001b[0;34m[\u001b[0m\u001b[0;36m0\u001b[0m\u001b[0;34m]\u001b[0m\u001b[0;34m\u001b[0m\u001b[0;34m\u001b[0m\u001b[0m\n\u001b[1;32m    214\u001b[0m \u001b[0;34m\u001b[0m\u001b[0m\n",
            "\u001b[0;31mValueError\u001b[0m: Record does not exist."
          ]
        }
      ]
    },
    {
      "cell_type": "code",
      "source": [
        "from sklearn.preprocessing import OrdinalEncoder, OneHotEncoder\n",
        "from sklearn.compose import ColumnTransformer\n",
        "from sklearn.pipeline import Pipeline\n",
        "\n",
        "\n",
        "print('encoding the final test data set')\n",
        "ord_enc_test = OrdinalEncoder()\n",
        "one_hot_enc_test = OneHotEncoder(sparse_output=False)\n",
        "\n",
        "test_cat_cols = test_df.select_dtypes('object').columns\n",
        "ordinal_cols = ['loan_grade']\n",
        "one_hot_cols = [col for col in test_cat_cols if col != 'loan_grade']\n",
        "remaining_cols = [col for col in test_df.columns if col not in list(test_cat_cols)]\n",
        "\n",
        "encoder_test = ColumnTransformer(\n",
        "            transformers=[\n",
        "                ('ordinal_encoder', ord_enc_test, ordinal_cols),\n",
        "                ('one_hot_encoder', one_hot_enc_test, one_hot_cols),\n",
        "                ('passthrough', 'passthrough', remaining_cols )\n",
        "            ]\n",
        ")\n",
        "\n",
        "encoded_data = encoder_test.fit_transform(test_df)\n",
        "one_hot_enc_test.fit(test_df[one_hot_cols])\n",
        "one_hot_encoded_cols = one_hot_enc_test.get_feature_names_out(one_hot_cols)\n",
        "all_cols = ordinal_cols + list(one_hot_encoded_cols) + remaining_cols\n",
        "test_df_encoded = pd.DataFrame(encoded_data, columns=all_cols)\n",
        "test_df_encoded.info()"
      ],
      "metadata": {
        "execution": {
          "iopub.status.busy": "2024-10-25T13:11:58.956757Z",
          "iopub.execute_input": "2024-10-25T13:11:58.956998Z",
          "iopub.status.idle": "2024-10-25T13:11:59.023737Z",
          "shell.execute_reply.started": "2024-10-25T13:11:58.956973Z",
          "shell.execute_reply": "2024-10-25T13:11:59.022857Z"
        },
        "trusted": true,
        "colab": {
          "base_uri": "https://localhost:8080/"
        },
        "id": "iBXn-Au62pYN",
        "outputId": "cc1f0839-eeb5-466d-c2f7-2c60c8319fca"
      },
      "execution_count": 39,
      "outputs": [
        {
          "output_type": "stream",
          "name": "stdout",
          "text": [
            "encoding the final test data set\n",
            "<class 'pandas.core.frame.DataFrame'>\n",
            "RangeIndex: 39098 entries, 0 to 39097\n",
            "Data columns (total 21 columns):\n",
            " #   Column                          Non-Null Count  Dtype  \n",
            "---  ------                          --------------  -----  \n",
            " 0   loan_grade                      39098 non-null  float64\n",
            " 1   person_home_ownership_MORTGAGE  39098 non-null  float64\n",
            " 2   person_home_ownership_OTHER     39098 non-null  float64\n",
            " 3   person_home_ownership_OWN       39098 non-null  float64\n",
            " 4   person_home_ownership_RENT      39098 non-null  float64\n",
            " 5   loan_intent_DEBTCONSOLIDATION   39098 non-null  float64\n",
            " 6   loan_intent_EDUCATION           39098 non-null  float64\n",
            " 7   loan_intent_HOMEIMPROVEMENT     39098 non-null  float64\n",
            " 8   loan_intent_MEDICAL             39098 non-null  float64\n",
            " 9   loan_intent_PERSONAL            39098 non-null  float64\n",
            " 10  loan_intent_VENTURE             39098 non-null  float64\n",
            " 11  cb_person_default_on_file_N     39098 non-null  float64\n",
            " 12  cb_person_default_on_file_Y     39098 non-null  float64\n",
            " 13  id                              39098 non-null  float64\n",
            " 14  person_age                      39098 non-null  float64\n",
            " 15  person_income                   39098 non-null  float64\n",
            " 16  person_emp_length               39098 non-null  float64\n",
            " 17  loan_amnt                       39098 non-null  float64\n",
            " 18  loan_int_rate                   39098 non-null  float64\n",
            " 19  loan_percent_income             39098 non-null  float64\n",
            " 20  cb_person_cred_hist_length      39098 non-null  float64\n",
            "dtypes: float64(21)\n",
            "memory usage: 6.3 MB\n"
          ]
        }
      ]
    },
    {
      "cell_type": "code",
      "source": [
        "import tensorflow as tf\n",
        "import pandas as pd\n",
        "from sklearn.preprocessing import StandardScaler, PolynomialFeatures\n",
        "from sklearn.pipeline import Pipeline\n",
        "\n",
        "def prepare_test_data_for_tpu(df: pd.DataFrame, features_cols: list[str], target_col: str, batch_size: int = 32, poly_degree: int = 2, poly: bool = False):\n",
        "\n",
        "    df = df.copy()\n",
        "    features = df[features_cols]\n",
        "    target = df[target_col]\n",
        "\n",
        "    # Define pipeline for scaling and optional polynomial features\n",
        "    pipe = Pipeline([\n",
        "        ('scaler', StandardScaler()),\n",
        "        ('poly', PolynomialFeatures(degree=poly_degree, include_bias=False, interaction_only=True)) if poly else None\n",
        "    ])\n",
        "    pipe.steps = [step for step in pipe.steps if step is not None]\n",
        "\n",
        "    # Transform features\n",
        "    features_final = pipe.fit_transform(features)\n",
        "    features_final_df = pd.DataFrame(features_final, columns=[f'feature_{i}' for i in range(features_final.shape[1])])\n",
        "\n",
        "    # Create tf.data.Dataset without shuffling, batching only\n",
        "    dataset = tf.data.Dataset.from_tensor_slices((dict(features_final_df), target))\n",
        "    dataset = dataset.batch(batch_size).prefetch(tf.data.experimental.AUTOTUNE)\n",
        "\n",
        "    return dataset\n"
      ],
      "metadata": {
        "execution": {
          "iopub.status.busy": "2024-10-25T13:11:59.024808Z",
          "iopub.execute_input": "2024-10-25T13:11:59.025124Z",
          "iopub.status.idle": "2024-10-25T13:11:59.031287Z",
          "shell.execute_reply.started": "2024-10-25T13:11:59.025093Z",
          "shell.execute_reply": "2024-10-25T13:11:59.030585Z"
        },
        "trusted": true,
        "id": "FklppLUM2pYO"
      },
      "execution_count": 40,
      "outputs": []
    }
  ]
}